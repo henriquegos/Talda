{
 "cells": [
  {
   "cell_type": "code",
   "execution_count": 45,
   "id": "653df441",
   "metadata": {},
   "outputs": [
    {
     "name": "stdout",
     "output_type": "stream",
     "text": [
      "Esperamos trabalhar no diretório: C:\\Users\\henriquegos\\Desktop\\Python\n"
     ]
    }
   ],
   "source": [
    "# Imports\n",
    "\n",
    "from math import *\n",
    "import pandas as pd\n",
    "from scipy.interpolate import RegularGridInterpolator as RGI\n",
    "import numpy as np\n",
    "import matplotlib.pyplot as plt\n",
    "import os\n",
    "\n",
    "print(\"Esperamos trabalhar no diretório: \"+str(os.getcwd()))"
   ]
  },
  {
   "cell_type": "code",
   "execution_count": 46,
   "id": "1b971f1e",
   "metadata": {},
   "outputs": [
    {
     "name": "stdout",
     "output_type": "stream",
     "text": [
      "Qual a humidade do seu grow?50.7\n",
      "Qual a temperatura do seu grow?25.9\n"
     ]
    }
   ],
   "source": [
    "# Data\n",
    "\n",
    "data = pd.read_excel(\"C:/Users/henriquegos/Desktop/VPDTABLEPASTA/VPDTABLE.xlsx\")\n",
    "\n",
    "# Limpeza da tabela\n",
    "\n",
    "data = data.iloc[3:24,0:14]\n",
    "data.columns = [\"Temperatura\\Humidade\",\"35%\",\"40%\",\"45%\",\"50%\",\"55%\",\"60%\",\"65%\",\"70%\",\"75%\",\"80%\",\"85%\",\"90%\",\"95%\"]\n",
    "\n",
    "#Tranformando os valores de VPD em vetores\n",
    "VPD = data.iloc[1:21,1:14].to_numpy()\n",
    "\n",
    "#Eixo Y e EixoVPD\n",
    "TemperaturaDados = np.arange(15,36,1)\n",
    "\n",
    "diffs = 21\n",
    "i_temp = 0\n",
    "\n",
    "Humidade, Temperatura = float(input(\"Qual a humidade do seu grow?\")), float(input(\"Qual a temperatura do seu grow?\"))\n",
    "\n",
    "for i, temp in enumerate(TemperaturaDados):\n",
    "                         \n",
    "    \n",
    "    diffscalc = sqrt((Temperatura-temp)**2)                  \n",
    "    if diffscalc < diffs:\n",
    "        diffs = diffscalc\n",
    "        i_temp = i\n",
    "         \n",
    "\n",
    "if i_temp-6<0:\n",
    "    \n",
    "    TemperaturaDados = TemperaturaDados[0:13]\n",
    "    VPD = VPD[0:13]\n",
    "    \n",
    "elif i_temp+6>19:\n",
    "    \n",
    "    TemperaturaDados = TemperaturaDados[8:21]\n",
    "    VPD = VPD[7:20]\n",
    "    \n",
    "else:\n",
    "    \n",
    "    TemperaturaDados = TemperaturaDados[i_temp-6:i_temp+7]\n",
    "    VPD = VPD[i_temp-6:i_temp+7]\n",
    "\n",
    "#Eixo X\n",
    "HumidadeDados = np.arange(35,96,5)\n"
   ]
  },
  {
   "cell_type": "code",
   "execution_count": 47,
   "id": "64b50d00",
   "metadata": {},
   "outputs": [
    {
     "name": "stdout",
     "output_type": "stream",
     "text": [
      "Seu déficit de pressão de vapor é: 1.07\n"
     ]
    }
   ],
   "source": [
    "#Realizando a interpolação\n",
    "f = RGI((HumidadeDados, TemperaturaDados), VPD, method = \"linear\", fill_value = -1)\n",
    "\n",
    "print(\"Seu déficit de pressão de vapor é: {:.3}\".format(f((Humidade,Temperatura))))"
   ]
  },
  {
   "cell_type": "code",
   "execution_count": null,
   "id": "441f04f7",
   "metadata": {},
   "outputs": [],
   "source": []
  }
 ],
 "metadata": {
  "kernelspec": {
   "display_name": "Python 3 (ipykernel)",
   "language": "python",
   "name": "python3"
  },
  "language_info": {
   "codemirror_mode": {
    "name": "ipython",
    "version": 3
   },
   "file_extension": ".py",
   "mimetype": "text/x-python",
   "name": "python",
   "nbconvert_exporter": "python",
   "pygments_lexer": "ipython3",
   "version": "3.11.5"
  }
 },
 "nbformat": 4,
 "nbformat_minor": 5
}
